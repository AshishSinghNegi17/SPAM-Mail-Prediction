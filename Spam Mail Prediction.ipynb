{
 "cells": [
  {
   "cell_type": "markdown",
   "id": "028ffac1",
   "metadata": {},
   "source": [
    "#### Import the Dependecies :"
   ]
  },
  {
   "cell_type": "code",
   "execution_count": 1,
   "id": "c2664e4e",
   "metadata": {},
   "outputs": [],
   "source": [
    "import numpy as np\n",
    "import pandas as pd\n",
    "from sklearn.model_selection import train_test_split\n",
    "from sklearn.feature_extraction.text import TfidfVectorizer\n",
    "from sklearn.linear_model import LogisticRegression\n",
    "from sklearn.metrics import accuracy_score"
   ]
  },
  {
   "cell_type": "markdown",
   "id": "8171a383",
   "metadata": {},
   "source": [
    "#### Data Collection an Preprocessing"
   ]
  },
  {
   "cell_type": "code",
   "execution_count": 2,
   "id": "ae64a8cb",
   "metadata": {},
   "outputs": [],
   "source": [
    "## Loading the data from csv to a pandas DataFrame\n",
    "raw_mail_data = pd.read_csv('mail_data.csv')"
   ]
  },
  {
   "cell_type": "code",
   "execution_count": 3,
   "id": "75633267",
   "metadata": {},
   "outputs": [
    {
     "name": "stdout",
     "output_type": "stream",
     "text": [
      "     Category                                            Message\n",
      "0         ham  Go until jurong point, crazy.. Available only ...\n",
      "1         ham                      Ok lar... Joking wif u oni...\n",
      "2        spam  Free entry in 2 a wkly comp to win FA Cup fina...\n",
      "3         ham  U dun say so early hor... U c already then say...\n",
      "4         ham  Nah I don't think he goes to usf, he lives aro...\n",
      "...       ...                                                ...\n",
      "5567     spam  This is the 2nd time we have tried 2 contact u...\n",
      "5568      ham               Will ü b going to esplanade fr home?\n",
      "5569      ham  Pity, * was in mood for that. So...any other s...\n",
      "5570      ham  The guy did some bitching but I acted like i'd...\n",
      "5571      ham                         Rofl. Its true to its name\n",
      "\n",
      "[5572 rows x 2 columns]\n"
     ]
    }
   ],
   "source": [
    "print(raw_mail_data)"
   ]
  },
  {
   "cell_type": "code",
   "execution_count": 4,
   "id": "66b03d0d",
   "metadata": {},
   "outputs": [],
   "source": [
    "# Replace the null values with a null string\n",
    "mail_data = raw_mail_data.where(pd.notnull(raw_mail_data), '')"
   ]
  },
  {
   "cell_type": "code",
   "execution_count": 5,
   "id": "1f63142a",
   "metadata": {},
   "outputs": [
    {
     "data": {
      "text/html": [
       "<div>\n",
       "<style scoped>\n",
       "    .dataframe tbody tr th:only-of-type {\n",
       "        vertical-align: middle;\n",
       "    }\n",
       "\n",
       "    .dataframe tbody tr th {\n",
       "        vertical-align: top;\n",
       "    }\n",
       "\n",
       "    .dataframe thead th {\n",
       "        text-align: right;\n",
       "    }\n",
       "</style>\n",
       "<table border=\"1\" class=\"dataframe\">\n",
       "  <thead>\n",
       "    <tr style=\"text-align: right;\">\n",
       "      <th></th>\n",
       "      <th>Category</th>\n",
       "      <th>Message</th>\n",
       "    </tr>\n",
       "  </thead>\n",
       "  <tbody>\n",
       "    <tr>\n",
       "      <th>0</th>\n",
       "      <td>ham</td>\n",
       "      <td>Go until jurong point, crazy.. Available only ...</td>\n",
       "    </tr>\n",
       "    <tr>\n",
       "      <th>1</th>\n",
       "      <td>ham</td>\n",
       "      <td>Ok lar... Joking wif u oni...</td>\n",
       "    </tr>\n",
       "    <tr>\n",
       "      <th>2</th>\n",
       "      <td>spam</td>\n",
       "      <td>Free entry in 2 a wkly comp to win FA Cup fina...</td>\n",
       "    </tr>\n",
       "    <tr>\n",
       "      <th>3</th>\n",
       "      <td>ham</td>\n",
       "      <td>U dun say so early hor... U c already then say...</td>\n",
       "    </tr>\n",
       "    <tr>\n",
       "      <th>4</th>\n",
       "      <td>ham</td>\n",
       "      <td>Nah I don't think he goes to usf, he lives aro...</td>\n",
       "    </tr>\n",
       "  </tbody>\n",
       "</table>\n",
       "</div>"
      ],
      "text/plain": [
       "  Category                                            Message\n",
       "0      ham  Go until jurong point, crazy.. Available only ...\n",
       "1      ham                      Ok lar... Joking wif u oni...\n",
       "2     spam  Free entry in 2 a wkly comp to win FA Cup fina...\n",
       "3      ham  U dun say so early hor... U c already then say...\n",
       "4      ham  Nah I don't think he goes to usf, he lives aro..."
      ]
     },
     "execution_count": 5,
     "metadata": {},
     "output_type": "execute_result"
    }
   ],
   "source": [
    "# Print first 5 rows of the DataFrame\n",
    "mail_data.head()"
   ]
  },
  {
   "cell_type": "code",
   "execution_count": 6,
   "id": "fd0f43f1",
   "metadata": {},
   "outputs": [
    {
     "data": {
      "text/plain": [
       "(5572, 2)"
      ]
     },
     "execution_count": 6,
     "metadata": {},
     "output_type": "execute_result"
    }
   ],
   "source": [
    "# Checking the number of columns and rows in the DataFrame\n",
    "mail_data.shape"
   ]
  },
  {
   "cell_type": "markdown",
   "id": "50ef43b3",
   "metadata": {},
   "source": [
    "#### Label Encoding"
   ]
  },
  {
   "cell_type": "code",
   "execution_count": 7,
   "id": "e73ca79e",
   "metadata": {},
   "outputs": [],
   "source": [
    "# Label spam mail as 0, and ham mail as 1\n",
    "mail_data.loc[mail_data['Category'] == 'spam', 'Category'] = 0\n",
    "mail_data.loc[mail_data['Category'] == 'ham', 'Category'] = 1"
   ]
  },
  {
   "cell_type": "markdown",
   "id": "c33f4da1",
   "metadata": {},
   "source": [
    "ham ==> 1,  \n",
    "spam ==> 0"
   ]
  },
  {
   "cell_type": "code",
   "execution_count": 8,
   "id": "249a1db9",
   "metadata": {},
   "outputs": [],
   "source": [
    "# Separating the data as texts as label\n",
    "X = mail_data['Message']\n",
    "Y = mail_data['Category']"
   ]
  },
  {
   "cell_type": "code",
   "execution_count": 9,
   "id": "92f17ecb",
   "metadata": {},
   "outputs": [
    {
     "name": "stdout",
     "output_type": "stream",
     "text": [
      "0       Go until jurong point, crazy.. Available only ...\n",
      "1                           Ok lar... Joking wif u oni...\n",
      "2       Free entry in 2 a wkly comp to win FA Cup fina...\n",
      "3       U dun say so early hor... U c already then say...\n",
      "4       Nah I don't think he goes to usf, he lives aro...\n",
      "                              ...                        \n",
      "5567    This is the 2nd time we have tried 2 contact u...\n",
      "5568                 Will ü b going to esplanade fr home?\n",
      "5569    Pity, * was in mood for that. So...any other s...\n",
      "5570    The guy did some bitching but I acted like i'd...\n",
      "5571                           Rofl. Its true to its name\n",
      "Name: Message, Length: 5572, dtype: object\n"
     ]
    }
   ],
   "source": [
    "print(X)"
   ]
  },
  {
   "cell_type": "code",
   "execution_count": 10,
   "id": "335e4dfd",
   "metadata": {},
   "outputs": [
    {
     "name": "stdout",
     "output_type": "stream",
     "text": [
      "0       1\n",
      "1       1\n",
      "2       0\n",
      "3       1\n",
      "4       1\n",
      "       ..\n",
      "5567    0\n",
      "5568    1\n",
      "5569    1\n",
      "5570    1\n",
      "5571    1\n",
      "Name: Category, Length: 5572, dtype: object\n"
     ]
    }
   ],
   "source": [
    "print(Y)"
   ]
  },
  {
   "cell_type": "markdown",
   "id": "63aff46c",
   "metadata": {},
   "source": [
    "Splitting the data into Training and Testing data"
   ]
  },
  {
   "cell_type": "code",
   "execution_count": 11,
   "id": "18cd4e55",
   "metadata": {},
   "outputs": [],
   "source": [
    "X_train, X_test, Y_train, Y_test = train_test_split(X,Y, test_size=0.2, stratify= Y, random_state= 1)"
   ]
  },
  {
   "cell_type": "code",
   "execution_count": 12,
   "id": "b966a66c",
   "metadata": {},
   "outputs": [
    {
     "name": "stdout",
     "output_type": "stream",
     "text": [
      "(5572,) (4457,) (1115,)\n"
     ]
    }
   ],
   "source": [
    "print(X.shape, X_train.shape, X_test.shape)"
   ]
  },
  {
   "cell_type": "markdown",
   "id": "805e26ec",
   "metadata": {},
   "source": [
    "#### Feature Extraction"
   ]
  },
  {
   "cell_type": "code",
   "execution_count": 13,
   "id": "43305fe6",
   "metadata": {},
   "outputs": [],
   "source": [
    "# transform the text data to feature vectors that can be used as input to the Logistic regression\n",
    "\n",
    "feature_extraction = TfidfVectorizer(min_df = 1, stop_words='english', lowercase='True')\n",
    "\n",
    "X_train_features = feature_extraction.fit_transform(X_train)\n",
    "X_test_features = feature_extraction.transform(X_test)\n",
    "\n",
    "# convert Y_train and Y_test values as integers\n",
    "\n",
    "Y_train = Y_train.astype('int')\n",
    "Y_test = Y_test.astype('int')"
   ]
  },
  {
   "cell_type": "code",
   "execution_count": 14,
   "id": "13be84c2",
   "metadata": {},
   "outputs": [
    {
     "name": "stdout",
     "output_type": "stream",
     "text": [
      "3539    We are pleased to inform that your application...\n",
      "2009                 See the forwarding message for proof\n",
      "5363    I think your mentor is , but not 100 percent s...\n",
      "3665     Huh? 6 also cannot? Then only how many mistakes?\n",
      "3443    Save money on wedding lingerie at www.bridal.p...\n",
      "                              ...                        \n",
      "5360    Hey, iouri gave me your number, I'm wylie, rya...\n",
      "2664    8007 FREE for 1st week! No1 Nokia tone 4 ur mo...\n",
      "3162    Mystery solved! Just opened my email and he's ...\n",
      "1525                        Hi:)cts employee how are you?\n",
      "3914                                    Yeah whatever lol\n",
      "Name: Message, Length: 4457, dtype: object\n"
     ]
    }
   ],
   "source": [
    "print(X_train)"
   ]
  },
  {
   "cell_type": "code",
   "execution_count": 15,
   "id": "bb7d8dba",
   "metadata": {},
   "outputs": [
    {
     "name": "stdout",
     "output_type": "stream",
     "text": [
      "  (0, 2177)\t0.23309557828846914\n",
      "  (0, 3264)\t0.2631513993394141\n",
      "  (0, 3619)\t0.3488783966153327\n",
      "  (0, 6409)\t0.3326362323256634\n",
      "  (0, 5295)\t0.3326362323256634\n",
      "  (0, 1516)\t0.3488783966153327\n",
      "  (0, 910)\t0.3326362323256634\n",
      "  (0, 1025)\t0.3326362323256634\n",
      "  (0, 3599)\t0.31217352532901926\n",
      "  (0, 5115)\t0.3048700690764884\n",
      "  (1, 5318)\t0.6366191779536516\n",
      "  (1, 4363)\t0.3858585853754368\n",
      "  (1, 2916)\t0.6677044064207481\n",
      "  (2, 6463)\t0.3522847311040471\n",
      "  (2, 5011)\t0.5648129493203621\n",
      "  (2, 260)\t0.3791945214013413\n",
      "  (2, 4356)\t0.5648129493203621\n",
      "  (2, 6675)\t0.3067240579580042\n",
      "  (3, 4425)\t0.7814747758273017\n",
      "  (3, 3477)\t0.6239368355416024\n",
      "  (4, 7233)\t0.30283664176761355\n",
      "  (4, 1525)\t0.2709757410506353\n",
      "  (4, 2232)\t0.23277522691456723\n",
      "  (4, 4600)\t0.22842310336648117\n",
      "  (4, 5849)\t0.2709757410506353\n",
      "  :\t:\n",
      "  (4453, 4685)\t0.3013920827617892\n",
      "  (4453, 7009)\t0.20821674441221627\n",
      "  (4453, 312)\t0.14076796933756813\n",
      "  (4453, 3788)\t0.09911204230079218\n",
      "  (4453, 6904)\t0.11983290605228093\n",
      "  (4453, 7238)\t0.26264651983729037\n",
      "  (4453, 345)\t0.1579300896214047\n",
      "  (4453, 2934)\t0.1115424123678941\n",
      "  (4453, 6589)\t0.1253260553347007\n",
      "  (4453, 6930)\t0.14304305143683857\n",
      "  (4453, 7420)\t0.133889319877971\n",
      "  (4454, 6494)\t0.3920995714841905\n",
      "  (4454, 4824)\t0.3920995714841905\n",
      "  (4454, 6138)\t0.3738452292270028\n",
      "  (4454, 1248)\t0.3738452292270028\n",
      "  (4454, 4569)\t0.3738452292270028\n",
      "  (4454, 5872)\t0.24809291668453956\n",
      "  (4454, 3669)\t0.3044932419819369\n",
      "  (4454, 3788)\t0.16773387606760162\n",
      "  (4454, 2544)\t0.30138713133457384\n",
      "  (4455, 2553)\t0.6587108865789035\n",
      "  (4455, 2093)\t0.6587108865789035\n",
      "  (4455, 3361)\t0.36359309097515835\n",
      "  (4456, 4100)\t0.7180066168826456\n",
      "  (4456, 7458)\t0.6960362764344528\n"
     ]
    }
   ],
   "source": [
    "print(X_train_features)"
   ]
  },
  {
   "cell_type": "markdown",
   "id": "0aeec0bc",
   "metadata": {},
   "source": [
    "#### Training the Model"
   ]
  },
  {
   "cell_type": "markdown",
   "id": "a06ee121",
   "metadata": {},
   "source": [
    "Logistic Regression"
   ]
  },
  {
   "cell_type": "code",
   "execution_count": 16,
   "id": "db8bd113",
   "metadata": {},
   "outputs": [],
   "source": [
    "model = LogisticRegression()"
   ]
  },
  {
   "cell_type": "code",
   "execution_count": 17,
   "id": "29bbdaf7",
   "metadata": {},
   "outputs": [
    {
     "data": {
      "text/plain": [
       "LogisticRegression()"
      ]
     },
     "execution_count": 17,
     "metadata": {},
     "output_type": "execute_result"
    }
   ],
   "source": [
    "# training the Logistic Regression model with the training data\n",
    "model.fit(X_train_features, Y_train)"
   ]
  },
  {
   "cell_type": "markdown",
   "id": "e84b8978",
   "metadata": {},
   "source": [
    "#### Evaluating the trained model"
   ]
  },
  {
   "cell_type": "code",
   "execution_count": 18,
   "id": "a931930b",
   "metadata": {},
   "outputs": [],
   "source": [
    "# Prediction on training data\n",
    "\n",
    "prediction_on_training_data = model.predict(X_train_features)\n",
    "accuracy_on_training_data = accuracy_score(Y_train, prediction_on_training_data)"
   ]
  },
  {
   "cell_type": "code",
   "execution_count": 19,
   "id": "fa3c7bb1",
   "metadata": {},
   "outputs": [
    {
     "name": "stdout",
     "output_type": "stream",
     "text": [
      "Accuracy on Training data:  0.9685887368184878\n"
     ]
    }
   ],
   "source": [
    "print(\"Accuracy on Training data: \", accuracy_on_training_data)"
   ]
  },
  {
   "cell_type": "code",
   "execution_count": 20,
   "id": "151c5a5f",
   "metadata": {},
   "outputs": [],
   "source": [
    "# Prediction on testing data\n",
    "\n",
    "prediction_on_test_data = model.predict(X_test_features)\n",
    "accuracy_on_test_data = accuracy_score(Y_test, prediction_on_test_data)"
   ]
  },
  {
   "cell_type": "code",
   "execution_count": 21,
   "id": "9c89f980",
   "metadata": {},
   "outputs": [
    {
     "name": "stdout",
     "output_type": "stream",
     "text": [
      "Accuracy on Testing data:  0.9614349775784753\n"
     ]
    }
   ],
   "source": [
    "print(\"Accuracy on Testing data: \", accuracy_on_test_data)"
   ]
  },
  {
   "cell_type": "markdown",
   "id": "b68ed3fc",
   "metadata": {},
   "source": [
    "#### Building a Predictive System"
   ]
  },
  {
   "cell_type": "code",
   "execution_count": 22,
   "id": "e03f0a66",
   "metadata": {},
   "outputs": [
    {
     "name": "stdout",
     "output_type": "stream",
     "text": [
      "[1]\n",
      "It is Ham mail\n"
     ]
    }
   ],
   "source": [
    "input_mail = [\"Go until jurong point, crazy.. Available only in bugis n great world la e buffet... Cine there got amore wat...\"]\n",
    "\n",
    "## Convert text to fearture vectors\n",
    "input_data_features = feature_extraction.transform(input_mail)\n",
    "\n",
    "#making prediction\n",
    "\n",
    "\n",
    "prediction = model.predict(input_data_features)\n",
    "print(prediction)\n",
    "\n",
    "if prediction[0] == 1:\n",
    "    print(\"It is Ham mail\")\n",
    "else:\n",
    "    print(\"It is Spam mail\")"
   ]
  }
 ],
 "metadata": {
  "kernelspec": {
   "display_name": "Python 3 (ipykernel)",
   "language": "python",
   "name": "python3"
  },
  "language_info": {
   "codemirror_mode": {
    "name": "ipython",
    "version": 3
   },
   "file_extension": ".py",
   "mimetype": "text/x-python",
   "name": "python",
   "nbconvert_exporter": "python",
   "pygments_lexer": "ipython3",
   "version": "3.7.8"
  }
 },
 "nbformat": 4,
 "nbformat_minor": 5
}
